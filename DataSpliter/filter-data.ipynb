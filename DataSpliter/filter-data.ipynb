{
 "cells": [
  {
   "cell_type": "code",
   "execution_count": 1,
   "metadata": {},
   "outputs": [],
   "source": [
    "import pandas as pd\n",
    "import json\n",
    "import os\n",
    "\n",
    "fn = '23-50-azureO1.csv'\n",
    "\n",
    "fn = fn.split('.')\n",
    "\n",
    "if len(fn) == 2 :\n",
    "    [filename, extension] = fn\n",
    "elif len(fn) == 1:\n",
    "    filename = fn[0]\n",
    "    extension = 'csv'\n",
    "else:\n",
    "    raise ValueError('Invalid filename')"
   ]
  },
  {
   "cell_type": "code",
   "execution_count": 2,
   "metadata": {},
   "outputs": [],
   "source": [
    "progress_file_path = f'./progress/validationProgress-{filename}.txt'\n",
    "raw_data_file_path = f'./data/raw/{filename}.{extension}'\n",
    "\n",
    "df = pd.read_csv(raw_data_file_path)\n",
    "\n",
    "# Open and read the JSON file\n",
    "with open(progress_file_path, 'r') as file:\n",
    "    validate_data = json.load(file)"
   ]
  },
  {
   "cell_type": "code",
   "execution_count": 3,
   "metadata": {},
   "outputs": [],
   "source": [
    "# Create a list of row indices marked as \"ok\"\n",
    "ok_indices = [entry['rowIndex'] for entry in validate_data['history'] if entry['mark'] == 'ok']\n",
    "weird_indices = [entry['rowIndex'] for entry in validate_data['history'] if entry['mark'] == 'weird']\n",
    "skip_indices = [entry['rowIndex'] for entry in validate_data['history'] if entry['mark'] == 'skip']\n",
    "\n",
    "# Filter the DataFrame to keep only the rows with indices in ok_indices\n",
    "filtered_df = df.iloc[ok_indices]\n",
    "weird_df = df.iloc[weird_indices]\n",
    "skip_df = df.iloc[skip_indices]"
   ]
  },
  {
   "cell_type": "code",
   "execution_count": 4,
   "metadata": {},
   "outputs": [
    {
     "name": "stdout",
     "output_type": "stream",
     "text": [
      "Filtered data shape:  41\n",
      "Weird data shape:  9\n",
      "Skipped data shape:  0\n",
      "\n",
      "Weird ratio:  0.21951219512195122\n"
     ]
    }
   ],
   "source": [
    "print('Filtered data shape: ',filtered_df.shape[0])\n",
    "print('Weird data shape: ',weird_df.shape[0])\n",
    "print('Skipped data shape: ',skip_df.shape[0])\n",
    "print()\n",
    "print('Weird ratio: ',validate_data['stats']['weird']/validate_data['stats']['ok'])"
   ]
  },
  {
   "cell_type": "code",
   "execution_count": 5,
   "metadata": {},
   "outputs": [],
   "source": [
    "os.makedirs(f'./data/filtered/{filename}', exist_ok=True)\n",
    "filtered_df.to_csv(f'./data/filtered/{filename}/{filename}_approved.csv', index=False)\n",
    "weird_df.to_csv(f'./data/filtered/{filename}/{filename}_rejected.csv', index=False)"
   ]
  }
 ],
 "metadata": {
  "kernelspec": {
   "display_name": "capstone",
   "language": "python",
   "name": "python3"
  },
  "language_info": {
   "codemirror_mode": {
    "name": "ipython",
    "version": 3
   },
   "file_extension": ".py",
   "mimetype": "text/x-python",
   "name": "python",
   "nbconvert_exporter": "python",
   "pygments_lexer": "ipython3",
   "version": "3.9.19"
  }
 },
 "nbformat": 4,
 "nbformat_minor": 2
}
