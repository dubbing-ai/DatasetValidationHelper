{
 "cells": [
  {
   "cell_type": "code",
   "execution_count": 27,
   "metadata": {},
   "outputs": [],
   "source": [
    "import pandas as pd\n",
    "import json\n",
    "import os"
   ]
  },
  {
   "cell_type": "markdown",
   "metadata": {},
   "source": [
    "# Put the Filename and Validate"
   ]
  },
  {
   "cell_type": "code",
   "execution_count": 28,
   "metadata": {},
   "outputs": [],
   "source": [
    "fn = '23-50-azureO1.csv'\n",
    "\n",
    "fn = fn.split('.')\n",
    "\n",
    "if len(fn) == 2 :\n",
    "    [filename, extension] = fn\n",
    "elif len(fn) == 1:\n",
    "    filename = fn[0]\n",
    "    extension = 'csv'\n",
    "else:\n",
    "    raise ValueError('Invalid filename')\n",
    "\n",
    "progress_file_path = f'./progress/validationProgress-{filename}.txt'\n",
    "raw_data_file_path = f'./data/raw/{filename}.{extension}'\n",
    "\n",
    "if not os.path.exists(progress_file_path):\n",
    "    raise FileNotFoundError(f'Progress file not found: {progress_file_path}')\n",
    "if not os.path.exists(raw_data_file_path):\n",
    "    raise FileNotFoundError(f'Raw data file not found: {raw_data_file_path}')"
   ]
  },
  {
   "cell_type": "markdown",
   "metadata": {},
   "source": [
    "# Read File"
   ]
  },
  {
   "cell_type": "code",
   "execution_count": 29,
   "metadata": {},
   "outputs": [],
   "source": [
    "df = pd.read_csv(raw_data_file_path)\n",
    "\n",
    "# Open and read the JSON file\n",
    "with open(progress_file_path, 'r') as file:\n",
    "    validate_data = json.load(file)"
   ]
  },
  {
   "cell_type": "markdown",
   "metadata": {},
   "source": [
    "# Split Data"
   ]
  },
  {
   "cell_type": "code",
   "execution_count": 30,
   "metadata": {},
   "outputs": [],
   "source": [
    "# Create a list of row indices marked as \"ok\"\n",
    "ok_indices = [entry['rowIndex'] for entry in validate_data['history'] if entry['mark'] == 'ok']\n",
    "weird_indices = [entry['rowIndex'] for entry in validate_data['history'] if entry['mark'] == 'weird']\n",
    "skip_indices = [entry['rowIndex'] for entry in validate_data['history'] if entry['mark'] == 'skip']\n",
    "\n",
    "# Filter the DataFrame to keep only the rows with indices in ok_indices\n",
    "filtered_df = df.iloc[ok_indices]\n",
    "weird_df = df.iloc[weird_indices]\n",
    "skip_df = df.iloc[skip_indices]"
   ]
  },
  {
   "cell_type": "markdown",
   "metadata": {},
   "source": [
    "# Analyze The Data"
   ]
  },
  {
   "cell_type": "code",
   "execution_count": 31,
   "metadata": {},
   "outputs": [
    {
     "name": "stdout",
     "output_type": "stream",
     "text": [
      "File: 23-50-azureO1.csv\n",
      "Total data shape: 50\n",
      "Filtered data shape: 41\n",
      "Weird data shape: 9\n",
      "Skipped data shape: 0\n",
      "Weird ratio: 0.21951219512195122\n"
     ]
    }
   ],
   "source": [
    "print('File:','.'.join(fn))\n",
    "print('Total data shape:',df.shape[0])\n",
    "print('Filtered data shape:',filtered_df.shape[0])\n",
    "print('Weird data shape:',weird_df.shape[0])\n",
    "print('Skipped data shape:',skip_df.shape[0])\n",
    "print('Weird ratio:',validate_data['stats']['weird']/validate_data['stats']['ok'])"
   ]
  },
  {
   "cell_type": "markdown",
   "metadata": {},
   "source": [
    "# Write File"
   ]
  },
  {
   "cell_type": "code",
   "execution_count": 32,
   "metadata": {},
   "outputs": [],
   "source": [
    "os.makedirs(f'./data/filtered/{filename}', exist_ok=True)\n",
    "filtered_df.to_csv(f'./data/filtered/{filename}/{filename}_approved.csv', index=False)\n",
    "weird_df.to_csv(f'./data/filtered/{filename}/{filename}_rejected.csv', index=False)"
   ]
  }
 ],
 "metadata": {
  "kernelspec": {
   "display_name": "capstone",
   "language": "python",
   "name": "python3"
  },
  "language_info": {
   "codemirror_mode": {
    "name": "ipython",
    "version": 3
   },
   "file_extension": ".py",
   "mimetype": "text/x-python",
   "name": "python",
   "nbconvert_exporter": "python",
   "pygments_lexer": "ipython3",
   "version": "3.9.19"
  }
 },
 "nbformat": 4,
 "nbformat_minor": 2
}
